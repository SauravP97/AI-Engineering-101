{
 "cells": [
  {
   "cell_type": "code",
   "execution_count": 1,
   "metadata": {},
   "outputs": [],
   "source": [
    "from langchain_openai import ChatOpenAI\n",
    "from dotenv import load_dotenv"
   ]
  },
  {
   "cell_type": "code",
   "execution_count": 3,
   "metadata": {},
   "outputs": [
    {
     "data": {
      "text/plain": [
       "True"
      ]
     },
     "execution_count": 3,
     "metadata": {},
     "output_type": "execute_result"
    }
   ],
   "source": [
    "load_dotenv()"
   ]
  },
  {
   "cell_type": "code",
   "execution_count": 17,
   "metadata": {},
   "outputs": [],
   "source": [
    "from langchain_core.tools import tool\n",
    "\n",
    "@tool\n",
    "def multiply(x: float, y:float):\n",
    "    \"\"\" Multiplies two integers x and y \"\"\"\n",
    "    return x * y\n",
    "\n",
    "@tool\n",
    "def add(x: float, y:float):\n",
    "    \"\"\" Adds two integers x and y \"\"\"\n",
    "    return x + y\n",
    "\n",
    "@tool\n",
    "def subtract(x: float, y:float):\n",
    "    \"\"\" Subtract integers y from y \"\"\"\n",
    "    return x - y\n",
    "\n",
    "@tool\n",
    "def divide(x:float, y:float):\n",
    "    \"\"\" Divides x by y \"\"\"\n",
    "    if y == 0:\n",
    "        return \"Infinity\"\n",
    "    return x / y"
   ]
  },
  {
   "cell_type": "code",
   "execution_count": 30,
   "metadata": {},
   "outputs": [],
   "source": [
    "tools = [add, multiply, subtract, divide]\n",
    "model = ChatOpenAI(model=\"gpt-4\", temperature=0.0)\n",
    "model_with_tools = model.bind_tools(tools)\n",
    "\n",
    "# What is 2 + 3 and then multiply the result by 4?\n",
    "# 711 = 3555 * x, Find x?\n",
    "# 5.9 = x + 5.11, Find x?\n",
    "response = model_with_tools.invoke(\n",
    "    \"5.9 = x + 5.11, Find x?\"\n",
    ")"
   ]
  },
  {
   "cell_type": "code",
   "execution_count": 31,
   "metadata": {},
   "outputs": [
    {
     "name": "stdout",
     "output_type": "stream",
     "text": [
      "[{'name': 'subtract', 'args': {'x': 5.9, 'y': 5.11}, 'id': 'call_SHQmC54oV4q2m7FVZCUfE68m', 'type': 'tool_call'}]\n"
     ]
    }
   ],
   "source": [
    "print(response.tool_calls)"
   ]
  },
  {
   "cell_type": "code",
   "execution_count": 32,
   "metadata": {},
   "outputs": [
    {
     "name": "stdout",
     "output_type": "stream",
     "text": [
      "Tool call result: 0.79\n"
     ]
    }
   ],
   "source": [
    "def execute_tool_calls(tool_calls):\n",
    "    for tool_call in tool_calls:\n",
    "        if tool_call[\"name\"] == 'add':\n",
    "            result = add.invoke(tool_call[\"args\"])\n",
    "        if tool_call[\"name\"] == 'multiply':\n",
    "            result = multiply.invoke(tool_call[\"args\"])\n",
    "        if tool_call[\"name\"] == 'subtract':\n",
    "            result = subtract.invoke(tool_call[\"args\"])\n",
    "        if tool_call[\"name\"] == 'divide':\n",
    "            result = divide.invoke(tool_call[\"args\"])\n",
    "        \n",
    "        print(f\"Tool call result: {result}\")\n",
    "\n",
    "execute_tool_calls(response.tool_calls)"
   ]
  }
 ],
 "metadata": {
  "kernelspec": {
   "display_name": "saurav-env",
   "language": "python",
   "name": "python3"
  },
  "language_info": {
   "codemirror_mode": {
    "name": "ipython",
    "version": 3
   },
   "file_extension": ".py",
   "mimetype": "text/x-python",
   "name": "python",
   "nbconvert_exporter": "python",
   "pygments_lexer": "ipython3",
   "version": "3.13.1"
  }
 },
 "nbformat": 4,
 "nbformat_minor": 2
}
