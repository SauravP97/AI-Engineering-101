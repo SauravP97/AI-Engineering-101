{
 "cells": [
  {
   "cell_type": "code",
   "execution_count": 1,
   "metadata": {},
   "outputs": [],
   "source": [
    "from langchain_openai import ChatOpenAI\n",
    "from dotenv import load_dotenv"
   ]
  },
  {
   "cell_type": "code",
   "execution_count": 7,
   "metadata": {},
   "outputs": [
    {
     "data": {
      "text/plain": [
       "True"
      ]
     },
     "execution_count": 7,
     "metadata": {},
     "output_type": "execute_result"
    }
   ],
   "source": [
    "load_dotenv()"
   ]
  },
  {
   "cell_type": "code",
   "execution_count": 3,
   "metadata": {},
   "outputs": [],
   "source": [
    "from langchain_core.tools import tool\n",
    "\n",
    "@tool\n",
    "def multiply(x: int, y:int):\n",
    "    \"\"\" Multiplies two integers x and y \"\"\"\n",
    "    return x * y\n",
    "\n",
    "@tool\n",
    "def add(x: int, y:int):\n",
    "    \"\"\" Adds two integers x and y \"\"\"\n",
    "    return x + y"
   ]
  },
  {
   "cell_type": "code",
   "execution_count": 11,
   "metadata": {},
   "outputs": [],
   "source": [
    "tools = [add, multiply]\n",
    "model = ChatOpenAI(model=\"gpt-3.5-turbo\", temperature=0.0)\n",
    "model_with_tools = model.bind_tools(tools)\n",
    "\n",
    "response = model_with_tools.invoke(\n",
    "    \"What is 2 + 3 and then multiply the result by 4?\"\n",
    ")"
   ]
  },
  {
   "cell_type": "code",
   "execution_count": 13,
   "metadata": {},
   "outputs": [
    {
     "name": "stdout",
     "output_type": "stream",
     "text": [
      "[{'name': 'add', 'args': {'x': 2, 'y': 3}, 'id': 'call_gWvAPvjLOJuD1cKo1tnV6Rvn', 'type': 'tool_call'}, {'name': 'multiply', 'args': {'x': 5, 'y': 4}, 'id': 'call_itsuT7UicuVTDXUji3H2Wpnh', 'type': 'tool_call'}]\n"
     ]
    }
   ],
   "source": [
    "print(response.tool_calls)"
   ]
  },
  {
   "cell_type": "code",
   "execution_count": 19,
   "metadata": {},
   "outputs": [
    {
     "name": "stdout",
     "output_type": "stream",
     "text": [
      "Tool call result: 5\n",
      "Tool call result: 20\n"
     ]
    }
   ],
   "source": [
    "def execute_tool_calls(tool_calls):\n",
    "    for tool_call in tool_calls:\n",
    "        if tool_call[\"name\"] == 'add':\n",
    "            result = add.invoke(tool_call[\"args\"])\n",
    "        if tool_call[\"name\"] == 'multiply':\n",
    "            result = multiply.invoke(tool_call[\"args\"])\n",
    "        \n",
    "        print(f\"Tool call result: {result}\")\n",
    "\n",
    "execute_tool_calls(response.tool_calls)"
   ]
  }
 ],
 "metadata": {
  "kernelspec": {
   "display_name": "saurav-env",
   "language": "python",
   "name": "python3"
  },
  "language_info": {
   "codemirror_mode": {
    "name": "ipython",
    "version": 3
   },
   "file_extension": ".py",
   "mimetype": "text/x-python",
   "name": "python",
   "nbconvert_exporter": "python",
   "pygments_lexer": "ipython3",
   "version": "3.13.1"
  }
 },
 "nbformat": 4,
 "nbformat_minor": 2
}
