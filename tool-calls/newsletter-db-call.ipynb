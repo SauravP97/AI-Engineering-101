{
 "cells": [
  {
   "cell_type": "code",
   "execution_count": 11,
   "metadata": {},
   "outputs": [],
   "source": [
    "from langchain_openai import ChatOpenAI\n",
    "from dotenv import load_dotenv\n",
    "from langchain_core.tools import tool"
   ]
  },
  {
   "cell_type": "code",
   "execution_count": 16,
   "metadata": {},
   "outputs": [],
   "source": [
    "import datetime\n",
    "from articles import ARTICLE_DB_RESULTS"
   ]
  },
  {
   "cell_type": "code",
   "execution_count": 18,
   "metadata": {},
   "outputs": [
    {
     "data": {
      "text/plain": [
       "8"
      ]
     },
     "execution_count": 18,
     "metadata": {},
     "output_type": "execute_result"
    }
   ],
   "source": [
    "len(ARTICLE_DB_RESULTS)"
   ]
  },
  {
   "cell_type": "code",
   "execution_count": 45,
   "metadata": {},
   "outputs": [],
   "source": [
    "@tool\n",
    "def get_top_article_by_view(number_of_articles: int) -> list:\n",
    "    \"\"\"Get the top article by views. Return top `number_of_articles` articles\"\"\"\n",
    "    top_articles = sorted(ARTICLE_DB_RESULTS, key=lambda x: x['views'], reverse=True)\n",
    "    \n",
    "    return top_articles[:number_of_articles]\n",
    "\n",
    "\n",
    "@tool\n",
    "def get_top_article_by_likes(number_of_articles: int) -> list:\n",
    "    \"\"\"Get the top article by likes. Return top `number_of_articles` articles\"\"\"\n",
    "    top_articles = sorted(ARTICLE_DB_RESULTS, key=lambda x: x['likes'], reverse=True)\n",
    "    \n",
    "    return top_articles[:number_of_articles]\n",
    "\n",
    "\n",
    "@tool\n",
    "def get_most_recent_articles(number_of_articles: int) -> list:\n",
    "    \"\"\"Get the most recent articles. Return top `number_of_articles` articles\"\"\"\n",
    "    top_articles = sorted(\n",
    "        ARTICLE_DB_RESULTS, \n",
    "        key=lambda x: x['published_date'], \n",
    "        reverse=True)\n",
    "    \n",
    "    return top_articles[:number_of_articles]\n",
    "\n",
    "\n",
    "@tool\n",
    "def get_all_articles() -> list:\n",
    "    \"\"\"Get all articles.\"\"\"\n",
    "    return ARTICLE_DB_RESULTS"
   ]
  },
  {
   "cell_type": "code",
   "execution_count": 40,
   "metadata": {},
   "outputs": [],
   "source": [
    "def execute_tool_calls(tool_calls: list) -> list:\n",
    "    result = []\n",
    "\n",
    "    for tool_call in tool_calls:\n",
    "        print(f'Executing Tool call: {tool_call['name']}')\n",
    "        print(f'Arguments: {tool_call[\"args\"]}')\n",
    "        \n",
    "        if tool_call['name'] == 'get_top_article_by_view':\n",
    "            result.append({\n",
    "                'name': tool_call['name'],\n",
    "                'result': get_top_article_by_view.invoke(tool_call['args'])\n",
    "            })\n",
    "        \n",
    "        if tool_call['name'] == 'get_top_article_by_likes':\n",
    "            result.append({\n",
    "                'name': tool_call['name'],\n",
    "                'result': get_top_article_by_likes.invoke(tool_call['args'])\n",
    "            }) \n",
    "        \n",
    "        if tool_call['name'] == 'get_most_recent_articles':\n",
    "            result.append({\n",
    "                'name': tool_call['name'],\n",
    "                'result': get_most_recent_articles.invoke(tool_call['args'])\n",
    "            })\n",
    "        \n",
    "        if tool_call['name'] == 'get_all_articles':\n",
    "            result.append({\n",
    "                'name': tool_call['name'],\n",
    "                'result': get_all_articles.invoke(tool_call['args'])\n",
    "            })\n",
    "        \n",
    "    return result"
   ]
  },
  {
   "cell_type": "code",
   "execution_count": 42,
   "metadata": {},
   "outputs": [],
   "source": [
    "def initiate_the_agent(query, debug_mode = False) -> list:\n",
    "    \"\"\"Initiate the agent with the given query.\"\"\"\n",
    "    load_dotenv()\n",
    "\n",
    "    tools = [\n",
    "        get_top_article_by_view,\n",
    "        get_top_article_by_likes,\n",
    "        get_most_recent_articles,\n",
    "        get_all_articles\n",
    "    ]\n",
    "\n",
    "    llm = ChatOpenAI(model=\"gpt-3.5-turbo\", temperature=0.0)\n",
    "    llm_with_tools = llm.bind_tools(tools)\n",
    "    \n",
    "    response = llm_with_tools.invoke(query)\n",
    "    \n",
    "    if debug_mode:\n",
    "        print(response.tool_calls)\n",
    "    \n",
    "    return execute_tool_calls(response.tool_calls)"
   ]
  },
  {
   "cell_type": "code",
   "execution_count": null,
   "metadata": {},
   "outputs": [],
   "source": [
    "# query1: \"Can you give me top 3 most liked and viewed articles?\"\n",
    "# query 2: \"Can you give me top 5 most recent articles?\"\n",
    "response = initiate_the_agent(\"Can you give me top 5 most recent articles?\")\n",
    "response"
   ]
  }
 ],
 "metadata": {
  "kernelspec": {
   "display_name": "saurav-env",
   "language": "python",
   "name": "python3"
  },
  "language_info": {
   "codemirror_mode": {
    "name": "ipython",
    "version": 3
   },
   "file_extension": ".py",
   "mimetype": "text/x-python",
   "name": "python",
   "nbconvert_exporter": "python",
   "pygments_lexer": "ipython3",
   "version": "3.13.1"
  }
 },
 "nbformat": 4,
 "nbformat_minor": 2
}
