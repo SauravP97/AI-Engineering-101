{
 "cells": [
  {
   "cell_type": "code",
   "execution_count": 1,
   "id": "b595ea1a",
   "metadata": {},
   "outputs": [],
   "source": [
    "import json\n",
    "\n",
    "def append_to_model_output_file(task_id: int, prompt: str, research_report: str):\n",
    "    \"\"\"Append the model output to a JSONL file\"\"\"\n",
    "    filename = \"output_4.jsonl\"\n",
    "    model_output = {\"id\": task_id, \"prompt\": prompt, \"article\": research_report}\n",
    "\n",
    "    try:\n",
    "        with open(filename, \"r\") as file:\n",
    "            existing_data = json.load(file)\n",
    "    except FileNotFoundError:\n",
    "        existing_data = []  # Initialize as an empty list if the file doesn't exist\n",
    "\n",
    "    # Example for appending to a list within a dictionary\n",
    "    if isinstance(existing_data, list):\n",
    "        existing_data.append(model_output)\n",
    "\n",
    "    with open(filename, \"w\") as file:\n",
    "        json.dump(existing_data, file, indent=4, ensure_ascii=False)\n"
   ]
  },
  {
   "cell_type": "code",
   "execution_count": 2,
   "id": "7b8fe65e",
   "metadata": {},
   "outputs": [],
   "source": [
    "with open('../output_final_report_1.md', \"r\") as file:\n",
    "    report = file.read()\n",
    "\n",
    "task_id = 52\n",
    "prompt = 'What are the investment philosophies of Duan Yongping, Warren Buffett, and Charlie Munger?'\n",
    "append_to_model_output_file(task_id=52, prompt=prompt, research_report=report)"
   ]
  },
  {
   "cell_type": "code",
   "execution_count": 23,
   "id": "f4b20e5d",
   "metadata": {},
   "outputs": [],
   "source": [
    "import json\n",
    "\n",
    "CHINESE_EVALS_PATH = \"../../evals/chinese/raw_results.jsonl\"\n",
    "ENGLISH_EVALS_PATH = \"../../evals/english/raw_results.jsonl\"\n",
    "OVERALL_EVALS_PATH = \"../../evals/overall/raw_results.jsonl\"\n",
    "\n",
    "def append_to_model_output_file(filepath):\n",
    "    \"\"\"Append the model output to a JSONL file\"\"\"\n",
    "    try:\n",
    "        existing_data = []\n",
    "        with open(filepath, 'r', encoding='utf-8') as f:\n",
    "            for line in f:\n",
    "                # Strip whitespace and parse the JSON string\n",
    "                json_object = json.loads(line.strip())\n",
    "                existing_data.append(json_object)\n",
    "    except FileNotFoundError as e:\n",
    "        print(\"File not found. Creating a new one.\", e)\n",
    "        existing_data = []  # Initialize as an empty list if the file doesn't exist\n",
    "\n",
    "    return existing_data\n"
   ]
  },
  {
   "cell_type": "code",
   "execution_count": 25,
   "id": "20832877",
   "metadata": {},
   "outputs": [
    {
     "name": "stdout",
     "output_type": "stream",
     "text": [
      "Comprehensiveness: 0.3512\n",
      "Insight: 0.3045\n",
      "Instruction Following: 0.3886\n",
      "Readability: 0.3544\n",
      "Overall Score: 0.3472\n"
     ]
    }
   ],
   "source": [
    "evals = append_to_model_output_file(OVERALL_EVALS_PATH)\n",
    "\n",
    "comprehensiveness = 0.0\n",
    "insight = 0.0\n",
    "instruction_following = 0.0\n",
    "readability = 0.0\n",
    "overall_score = 0.0\n",
    "\n",
    "for eval in evals:\n",
    "    overall_score += eval['overall_score']\n",
    "    insight += eval['insight']\n",
    "    comprehensiveness += eval['comprehensiveness']\n",
    "    instruction_following += eval['instruction_following']\n",
    "    readability += eval['readability']\n",
    "\n",
    "print(f'Comprehensiveness: {comprehensiveness/len(evals):.4f}')\n",
    "print(f'Insight: {insight/len(evals):.4f}')\n",
    "print(f'Instruction Following: {instruction_following/len(evals):.4f}')\n",
    "print(f'Readability: {readability/len(evals):.4f}')\n",
    "print(f'Overall Score: {overall_score/len(evals):.4f}')"
   ]
  }
 ],
 "metadata": {
  "kernelspec": {
   "display_name": "saurav-env",
   "language": "python",
   "name": "python3"
  },
  "language_info": {
   "codemirror_mode": {
    "name": "ipython",
    "version": 3
   },
   "file_extension": ".py",
   "mimetype": "text/x-python",
   "name": "python",
   "nbconvert_exporter": "python",
   "pygments_lexer": "ipython3",
   "version": "3.13.1"
  }
 },
 "nbformat": 4,
 "nbformat_minor": 5
}
