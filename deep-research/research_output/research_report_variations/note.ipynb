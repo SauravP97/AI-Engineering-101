{
 "cells": [
  {
   "cell_type": "code",
   "execution_count": 1,
   "id": "b595ea1a",
   "metadata": {},
   "outputs": [],
   "source": [
    "import json\n",
    "\n",
    "def append_to_model_output_file(task_id: int, prompt: str, research_report: str):\n",
    "    \"\"\"Append the model output to a JSONL file\"\"\"\n",
    "    filename = \"output_4.jsonl\"\n",
    "    model_output = {\"id\": task_id, \"prompt\": prompt, \"article\": research_report}\n",
    "\n",
    "    try:\n",
    "        with open(filename, \"r\") as file:\n",
    "            existing_data = json.load(file)\n",
    "    except FileNotFoundError:\n",
    "        existing_data = []  # Initialize as an empty list if the file doesn't exist\n",
    "\n",
    "    # Example for appending to a list within a dictionary\n",
    "    if isinstance(existing_data, list):\n",
    "        existing_data.append(model_output)\n",
    "\n",
    "    with open(filename, \"w\") as file:\n",
    "        json.dump(existing_data, file, indent=4, ensure_ascii=False)\n"
   ]
  },
  {
   "cell_type": "code",
   "execution_count": 2,
   "id": "7b8fe65e",
   "metadata": {},
   "outputs": [],
   "source": [
    "with open('../output_final_report_1.md', \"r\") as file:\n",
    "    report = file.read()\n",
    "\n",
    "task_id = 52\n",
    "prompt = 'What are the investment philosophies of Duan Yongping, Warren Buffett, and Charlie Munger?'\n",
    "append_to_model_output_file(task_id=52, prompt=prompt, research_report=report)"
   ]
  }
 ],
 "metadata": {
  "kernelspec": {
   "display_name": "saurav-env",
   "language": "python",
   "name": "python3"
  },
  "language_info": {
   "codemirror_mode": {
    "name": "ipython",
    "version": 3
   },
   "file_extension": ".py",
   "mimetype": "text/x-python",
   "name": "python",
   "nbconvert_exporter": "python",
   "pygments_lexer": "ipython3",
   "version": "3.13.1"
  }
 },
 "nbformat": 4,
 "nbformat_minor": 5
}
