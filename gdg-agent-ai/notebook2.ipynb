{
 "cells": [
  {
   "cell_type": "code",
   "execution_count": 23,
   "metadata": {},
   "outputs": [],
   "source": [
    "from langchain_openai import ChatOpenAI\n",
    "from dotenv import load_dotenv\n",
    "from typing_extensions import TypedDict, Annotated\n",
    "from langgraph.graph import START, StateGraph, END\n",
    "from langchain_community.document_loaders import WebBaseLoader\n"
   ]
  },
  {
   "cell_type": "code",
   "execution_count": 24,
   "metadata": {},
   "outputs": [],
   "source": [
    "class SharedState(TypedDict):\n",
    "    github_handle: str\n",
    "    github_profile_content: str\n",
    "    github_profile_summary: str\n",
    "    model: ChatOpenAI"
   ]
  },
  {
   "cell_type": "code",
   "execution_count": 17,
   "metadata": {},
   "outputs": [],
   "source": [
    "def build_model(shared_state: SharedState) -> SharedState:\n",
    "    model = ChatOpenAI(model= \"gpt-5\")\n",
    "    shared_state['model'] = model\n",
    "\n",
    "    return shared_state"
   ]
  },
  {
   "cell_type": "code",
   "execution_count": 26,
   "metadata": {},
   "outputs": [],
   "source": [
    "def pull_github_profile_content(shared_state: SharedState) -> SharedState:\n",
    "    '''Pulls the GitHub profile content for the given GitHub handle.'''\n",
    "    print('Pulling GitHub profile content...')\n",
    "    github_profile_url = 'https://www.github.com/' + shared_state['github_handle']\n",
    "    documents = WebBaseLoader(github_profile_url).load()\n",
    "    page_content = ''\n",
    "\n",
    "    for document in documents:\n",
    "        page_content += document.page_content\n",
    "    \n",
    "    shared_state['github_profile_content'] = page_content.strip()\n",
    "    return shared_state"
   ]
  },
  {
   "cell_type": "code",
   "execution_count": 27,
   "metadata": {},
   "outputs": [],
   "source": [
    "def summarize_github_profile(shared_state: SharedState) -> SharedState:\n",
    "    '''Summarizes the GitHub profile content.'''\n",
    "    print('Summarizing GitHub profile content...')\n",
    "    model = shared_state['model']\n",
    "    github_profile_content = shared_state['github_profile_content']\n",
    "\n",
    "    prompt = f'''Summarize the following GitHub profile content in a concise manner\n",
    "    and highlight name, organization, followers, location, contact information key skills, \n",
    "    projects, and contributions.\n",
    "\n",
    "    Github Profile Content: {github_profile_content}\n",
    "    '''\n",
    "    response = model.invoke(prompt)\n",
    "    shared_state['github_profile_summary'] = response.content.strip()\n",
    "\n",
    "    return shared_state\n"
   ]
  },
  {
   "cell_type": "code",
   "execution_count": 28,
   "metadata": {},
   "outputs": [],
   "source": [
    "def build_serial_graph():\n",
    "  # Building a Graph\n",
    "  # State of the Graph that will be shared among nodes.\n",
    "  workflow = StateGraph(SharedState)\n",
    "\n",
    "  # Add nodes.\n",
    "  workflow.add_node(\"build_model\", build_model)\n",
    "  workflow.add_node(\"pull_github_profile_content\", pull_github_profile_content)\n",
    "  workflow.add_node(\"summarize_github_profile\", summarize_github_profile)\n",
    "\n",
    "  # Define the edges of the graph.\n",
    "  workflow.add_edge(START, \"build_model\")\n",
    "  workflow.add_edge(\"build_model\", \"pull_github_profile_content\")\n",
    "  workflow.add_edge(\"pull_github_profile_content\", \"summarize_github_profile\")\n",
    "  workflow.add_edge(\"summarize_github_profile\", END)\n",
    "\n",
    "  graph = workflow.compile()\n",
    "  \n",
    "  return graph"
   ]
  },
  {
   "cell_type": "code",
   "execution_count": 29,
   "metadata": {},
   "outputs": [
    {
     "name": "stdout",
     "output_type": "stream",
     "text": [
      "Pulling GitHub profile content...\n",
      "Summarizing GitHub profile content...\n",
      "- Name: Saurav Prateek (username: SauravP97)\n",
      "- Organization/Role: Web Solutions Engineer II at Google (gTech); ex-Software Engineer at GeeksForGeeks\n",
      "- Followers: 163 (following 10)\n",
      "- Location: Gurugram, India\n",
      "- Contact: LinkedIn – https://www.linkedin.com/in/saurav-prateek-7b2096140/\n",
      "- Tagline: “Practicing the subtle art of not giving a bug!”\n",
      "- Key skills and interests: Web solutions engineering; Java; TypeScript; Python/Jupyter; AI/ML; LLMs; LangChain; RAG; agentic workflows; distributed systems; low-level design; data structures & algorithms; content/community building\n",
      "- Notable projects (pinned):\n",
      "  - Saurav-Low-Level-Design-Template (Java) — 121★, 35 forks\n",
      "  - Saurav-s-DSA-Templates (Java) — 51★, 31 forks\n",
      "  - LangPost (TypeScript) — 39★, 4 forks — Agent that summarizes LinkedIn articles into post content\n",
      "  - AI-Engineering-101 (Jupyter Notebook) — 29★, 4 forks — Collection of agentic workflows\n",
      "  - micrograd-java (Jupyter Notebook) — 9★, 3 forks — Deep neural network from scratch in Java\n",
      "  - makemore (Jupyter Notebook) — 1★, 1 fork — Character-level language model\n",
      "- Contributions/Activity:\n",
      "  - 54 repositories; 0 projects; 0 packages; 18 starred repositories\n",
      "  - Creator of “Systems That Scale” engineering newsletter (30,000+ subscribers)\n",
      "  - YouTube content: “Distributed Systems 101” series; “RAG and LangChain – Building Multi-agent workflows” playlist\n"
     ]
    }
   ],
   "source": [
    "load_dotenv()\n",
    "\n",
    "compiled_graph = build_serial_graph()\n",
    "response = compiled_graph.invoke({\n",
    "    'github_handle': 'SauravP97'\n",
    "})\n",
    "\n",
    "print(response['github_profile_summary'])"
   ]
  },
  {
   "cell_type": "code",
   "execution_count": null,
   "metadata": {},
   "outputs": [],
   "source": [
    "print(build_serial_graph().get_graph().draw_mermaid())"
   ]
  }
 ],
 "metadata": {
  "kernelspec": {
   "display_name": "saurav-env",
   "language": "python",
   "name": "python3"
  },
  "language_info": {
   "codemirror_mode": {
    "name": "ipython",
    "version": 3
   },
   "file_extension": ".py",
   "mimetype": "text/x-python",
   "name": "python",
   "nbconvert_exporter": "python",
   "pygments_lexer": "ipython3",
   "version": "3.13.1"
  }
 },
 "nbformat": 4,
 "nbformat_minor": 2
}
