{
 "cells": [
  {
   "cell_type": "code",
   "execution_count": 2,
   "metadata": {},
   "outputs": [],
   "source": [
    "from langchain_openai import ChatOpenAI\n",
    "from dotenv import load_dotenv\n",
    "from typing_extensions import TypedDict, Annotated\n",
    "from langgraph.graph import START, StateGraph, END\n",
    "from langchain_community.document_loaders import WebBaseLoader\n",
    "\n",
    "import time\n"
   ]
  },
  {
   "cell_type": "code",
   "execution_count": 3,
   "metadata": {},
   "outputs": [],
   "source": [
    "# To Handle: https://langchain-ai.github.io/langgraph/troubleshooting/errors/INVALID_CONCURRENT_GRAPH_UPDATE/\n",
    "def custom_reducer(obj1, obj2):\n",
    "  return obj1 if obj1 else obj2\n"
   ]
  },
  {
   "cell_type": "code",
   "execution_count": 4,
   "metadata": {},
   "outputs": [],
   "source": [
    "class SharedState(TypedDict):\n",
    "    github_handle: Annotated[str, custom_reducer]\n",
    "    medium_handle: Annotated[str, custom_reducer]\n",
    "\n",
    "    github_profile_content: Annotated[str, custom_reducer]\n",
    "    medium_profile_content: Annotated[str, custom_reducer]\n",
    "\n",
    "    github_profile_summary: Annotated[str, custom_reducer]\n",
    "    medium_profile_summary: Annotated[str, custom_reducer]\n",
    "    \n",
    "    model: Annotated[ChatOpenAI, custom_reducer]"
   ]
  },
  {
   "cell_type": "code",
   "execution_count": 5,
   "metadata": {},
   "outputs": [],
   "source": [
    "def build_model(shared_state: SharedState) -> SharedState:\n",
    "    model = ChatOpenAI(model= \"gpt-5\")\n",
    "    shared_state['model'] = model\n",
    "\n",
    "    return shared_state"
   ]
  },
  {
   "cell_type": "code",
   "execution_count": 6,
   "metadata": {},
   "outputs": [],
   "source": [
    "def pull_github_profile_content(shared_state: SharedState) -> SharedState:\n",
    "    '''Pulls the GitHub profile content for the given GitHub handle.'''\n",
    "    print('Pulling GitHub profile content...')\n",
    "    github_profile_url = 'https://www.github.com/' + shared_state['github_handle']\n",
    "    documents = WebBaseLoader(github_profile_url).load()\n",
    "    page_content = ''\n",
    "\n",
    "    for document in documents:\n",
    "        page_content += document.page_content\n",
    "    \n",
    "    shared_state['github_profile_content'] = page_content.strip()\n",
    "    return shared_state"
   ]
  },
  {
   "cell_type": "code",
   "execution_count": 7,
   "metadata": {},
   "outputs": [],
   "source": [
    "def pull_medium_profile_content(shared_state: SharedState) -> SharedState:\n",
    "    '''Pulls the Medium profile content for the given Medium handle.'''\n",
    "    print('Pulling Medium profile content...')\n",
    "    medium_profile_url = f'https://{shared_state['medium_handle']}.medium.com'\n",
    "    documents = WebBaseLoader(medium_profile_url).load()\n",
    "    page_content = ''\n",
    "\n",
    "    for document in documents:\n",
    "        page_content += document.page_content\n",
    "    \n",
    "    shared_state['medium_profile_content'] = page_content.strip()\n",
    "    return shared_state"
   ]
  },
  {
   "cell_type": "code",
   "execution_count": 8,
   "metadata": {},
   "outputs": [],
   "source": [
    "def summarize_github_profile(shared_state: SharedState) -> SharedState:\n",
    "    '''Summarizes the GitHub profile content.'''\n",
    "    print('Summarizing GitHub profile content...')\n",
    "    model = shared_state['model']\n",
    "    github_profile_content = shared_state['github_profile_content']\n",
    "\n",
    "    prompt = f'''Summarize the following GitHub profile content in a concise manner\n",
    "    and highlight name, organization, followers, location, contact information key skills, \n",
    "    projects, and contributions.\n",
    "\n",
    "    Github Profile Content: {github_profile_content}\n",
    "    '''\n",
    "    response = model.invoke(prompt)\n",
    "    shared_state['github_profile_summary'] = response.content.strip()\n",
    "\n",
    "    return shared_state\n"
   ]
  },
  {
   "cell_type": "code",
   "execution_count": 9,
   "metadata": {},
   "outputs": [],
   "source": [
    "def summarize_medium_profile(shared_state: SharedState) -> SharedState:\n",
    "    '''Summarizes the Medium profile content.'''\n",
    "    print('Summarizing Medium profile content...')\n",
    "    model = shared_state['model']\n",
    "    medium_profile_content = shared_state['medium_profile_content']\n",
    "\n",
    "    prompt = f'''Summarize the following Medium profile content in a concise manner\n",
    "    and highlight name, followers, posted articles, and description.\n",
    "\n",
    "    Medium Profile Content: {medium_profile_content}\n",
    "    '''\n",
    "    response = model.invoke(prompt)\n",
    "    shared_state['medium_profile_summary'] = response.content.strip()\n",
    "\n",
    "    return shared_state\n"
   ]
  },
  {
   "cell_type": "code",
   "execution_count": 12,
   "metadata": {},
   "outputs": [],
   "source": [
    "def build_parallel_graph():\n",
    "  # Building a Graph\n",
    "  # State of the Graph that will be shared among nodes.\n",
    "  workflow = StateGraph(SharedState)\n",
    "\n",
    "  # Add nodes.\n",
    "  workflow.add_node(\"build_model\", build_model)\n",
    "  workflow.add_node(\"pull_github_profile_content\", pull_github_profile_content)\n",
    "  workflow.add_node(\"pull_medium_profile_content\", pull_medium_profile_content)\n",
    "  workflow.add_node(\"summarize_github_profile\", summarize_github_profile)\n",
    "  workflow.add_node(\"summarize_medium_profile\", summarize_medium_profile)\n",
    "\n",
    "  # Define the edges of the graph.\n",
    "  workflow.add_edge(START, \"build_model\")\n",
    "  workflow.add_edge(\"build_model\", \"pull_github_profile_content\")\n",
    "  workflow.add_edge(\"build_model\", \"pull_medium_profile_content\")\n",
    "  workflow.add_edge(\"pull_github_profile_content\", \"summarize_github_profile\")\n",
    "  workflow.add_edge(\"pull_medium_profile_content\", \"summarize_medium_profile\")\n",
    "  workflow.add_edge(\"summarize_medium_profile\", END)\n",
    "  workflow.add_edge(\"summarize_github_profile\", END)\n",
    "\n",
    "  graph = workflow.compile()\n",
    "\n",
    "  return graph"
   ]
  },
  {
   "cell_type": "code",
   "execution_count": 13,
   "metadata": {},
   "outputs": [
    {
     "name": "stdout",
     "output_type": "stream",
     "text": [
      "Pulling Medium profile content...Pulling GitHub profile content...\n",
      "\n",
      "Summarizing GitHub profile content...Summarizing Medium profile content...\n",
      "\n",
      "\n",
      "\n",
      "Name: Saurav Prateek\n",
      "Organization: Google\n",
      "Followers: 166\n",
      "Location: Gurugram, India\n",
      "Contact: LinkedIn profile - https://www.linkedin.com/in/saurav-prateek-7b2096140/\n",
      "Key Skills: Web Solutions Engineering, Software Development\n",
      "Projects: \n",
      "- Saurav-s-DSA-Templates\n",
      "- Saurav-Low-Level-Design-Template\n",
      "- AI-Engineering-101\n",
      "- LangPost\n",
      "- micrograd-java\n",
      "- makemore\n",
      "Contributions: Systems That Scale (Engineering Newsletter), YouTube channel (tech-related content)\n",
      "\n",
      "\n",
      "Name: Saurav Prateek\n",
      "Followers: 91\n",
      "Posted Articles:\n",
      "- Dynamic Programming (DP) on Trees | Solving Catering Contracts Problem Statement\n",
      "- My Google Interview Experience | Web Solutions Engineer role\n",
      "- Principles of Clean Coding — Objects, Error Handling and Clean Integration (Part 2)\n",
      "- Principles of Clean Coding — Every Entry Level Developer should Follow (Part 1)\n",
      "- I am writing a Library for Query Simplification in Dynamo DB\n",
      "Description: Web Solutions Engineer II @Google | https://github.com/SauravP97\n",
      "\n",
      "\n",
      "Execution Time: 5.27 seconds\n"
     ]
    }
   ],
   "source": [
    "load_dotenv()\n",
    "start_time = time.perf_counter()\n",
    "\n",
    "compiled_graph = build_parallel_graph()\n",
    "response = compiled_graph.invoke({\n",
    "    'github_handle': 'SauravP97',\n",
    "    'medium_handle': 'srvptk97',\n",
    "})\n",
    "\n",
    "print('\\n\\n' + response['github_profile_summary'])\n",
    "print('\\n\\n' + response['medium_profile_summary'])\n",
    "\n",
    "end_time = time.perf_counter()\n",
    "\n",
    "print(f'\\n\\nExecution Time: {end_time - start_time:.2f} seconds')"
   ]
  },
  {
   "cell_type": "code",
   "execution_count": 14,
   "metadata": {},
   "outputs": [],
   "source": [
    "def build_serial_graph():\n",
    "  # Building a Graph\n",
    "  # State of the Graph that will be shared among nodes.\n",
    "  workflow = StateGraph(SharedState)\n",
    "\n",
    "  # Add nodes.\n",
    "  workflow.add_node(\"build_model\", build_model)\n",
    "  workflow.add_node(\"pull_github_profile_content\", pull_github_profile_content)\n",
    "  workflow.add_node(\"pull_medium_profile_content\", pull_medium_profile_content)\n",
    "  workflow.add_node(\"summarize_github_profile\", summarize_github_profile)\n",
    "  workflow.add_node(\"summarize_medium_profile\", summarize_medium_profile)\n",
    "\n",
    "  # Define the edges of the graph.\n",
    "  workflow.add_edge(START, \"build_model\")\n",
    "  workflow.add_edge(\"build_model\", \"pull_github_profile_content\")\n",
    "  workflow.add_edge(\"pull_github_profile_content\", \"summarize_github_profile\")\n",
    "  workflow.add_edge(\"summarize_github_profile\", \"pull_medium_profile_content\")\n",
    "  workflow.add_edge(\"pull_medium_profile_content\", \"summarize_medium_profile\")\n",
    "  workflow.add_edge(\"summarize_medium_profile\", END)\n",
    "\n",
    "  graph = workflow.compile()\n",
    "\n",
    "  return graph"
   ]
  },
  {
   "cell_type": "code",
   "execution_count": 15,
   "metadata": {},
   "outputs": [
    {
     "name": "stdout",
     "output_type": "stream",
     "text": [
      "Pulling GitHub profile content...\n",
      "Summarizing GitHub profile content...\n",
      "Pulling Medium profile content...\n",
      "Summarizing Medium profile content...\n",
      "\n",
      "\n",
      "Name: Saurav Prateek\n",
      "Organization: Google\n",
      "Followers: 166\n",
      "Location: Gurugram, India\n",
      "Contact: https://www.linkedin.com/in/saurav-prateek-7b2096140/\n",
      "Key Skills: Web Solutions, Software Engineering\n",
      "Projects: Saurav-s-DSA-Templates, Saurav-Low-Level-Design-Template, AI-Engineering-101, LangPost, micrograd-java, makemore\n",
      "Contributions: Web Solutions Engineer II at Google, previously Software Engineer at GeeksForGeeks, maintained an Engineering Newsletter \"Systems That Scale,\" YouTube channel with tech-related content.\n",
      "\n",
      "\n",
      "Name: Saurav Prateek\n",
      "Followers: 93\n",
      "Articles:\n",
      "1. Dynamic Programming (DP) on Trees | Solving Catering Contracts Problem Statement\n",
      "2. My Google Interview Experience | Web Solutions Engineer role\n",
      "3. Principles of Clean Coding — Objects, Error Handling and Clean Integration (Part 2)\n",
      "4. Principles of Clean Coding — Every Entry Level Developer should Follow (Part 1)\n",
      "5. I am writing a Library for Query Simplification in Dynamo DB\n",
      "Description: Web Solutions Engineer II @Google | https://github.com/SauravP97\n",
      "\n",
      "\n",
      "Execution Time: 6.12 seconds\n"
     ]
    }
   ],
   "source": [
    "start_time = time.perf_counter()\n",
    "\n",
    "compiled_graph = build_serial_graph()\n",
    "response = compiled_graph.invoke({\n",
    "    'github_handle': 'SauravP97',\n",
    "    'medium_handle': 'srvptk97',\n",
    "})\n",
    "\n",
    "print('\\n\\n' + response['github_profile_summary'])\n",
    "print('\\n\\n' + response['medium_profile_summary'])\n",
    "\n",
    "end_time = time.perf_counter()\n",
    "\n",
    "print(f'\\n\\nExecution Time: {end_time - start_time:.2f} seconds')"
   ]
  },
  {
   "cell_type": "code",
   "execution_count": null,
   "metadata": {},
   "outputs": [],
   "source": [
    "print(build_parallel_graph().get_graph().draw_mermaid())"
   ]
  },
  {
   "cell_type": "code",
   "execution_count": null,
   "metadata": {},
   "outputs": [],
   "source": [
    "print(build_serial_graph().get_graph().draw_mermaid())"
   ]
  }
 ],
 "metadata": {
  "kernelspec": {
   "display_name": "saurav-env",
   "language": "python",
   "name": "python3"
  },
  "language_info": {
   "codemirror_mode": {
    "name": "ipython",
    "version": 3
   },
   "file_extension": ".py",
   "mimetype": "text/x-python",
   "name": "python",
   "nbconvert_exporter": "python",
   "pygments_lexer": "ipython3",
   "version": "3.13.1"
  }
 },
 "nbformat": 4,
 "nbformat_minor": 2
}
