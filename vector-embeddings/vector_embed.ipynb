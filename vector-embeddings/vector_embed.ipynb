{
 "cells": [
  {
   "cell_type": "code",
   "execution_count": 4,
   "metadata": {},
   "outputs": [],
   "source": [
    "from google.genai import types\n",
    "from google import genai\n",
    "from dotenv import load_dotenv\n",
    "\n",
    "import numpy as np\n",
    "import os"
   ]
  },
  {
   "cell_type": "code",
   "execution_count": 6,
   "metadata": {},
   "outputs": [],
   "source": [
    "load_dotenv()\n",
    "API_KEY = os.getenv(\"API_KEY\")"
   ]
  },
  {
   "cell_type": "code",
   "execution_count": 7,
   "metadata": {},
   "outputs": [],
   "source": [
    "client = genai.Client(\n",
    "    api_key=API_KEY, http_options=types.HttpOptions(api_version=\"v1alpha\")\n",
    ")"
   ]
  },
  {
   "cell_type": "code",
   "execution_count": 8,
   "metadata": {},
   "outputs": [],
   "source": [
    "word = \"health care\"\n",
    "\n",
    "response = client.models.embed_content(\n",
    "    model='gemini-embedding-001',\n",
    "    contents=word,\n",
    ")\n",
    "\n",
    "word_embedding = response.embeddings[0].values"
   ]
  },
  {
   "cell_type": "code",
   "execution_count": 9,
   "metadata": {},
   "outputs": [
    {
     "name": "stdout",
     "output_type": "stream",
     "text": [
      "[0.003963938, 0.028064894, -0.007084594, -0.038220156, -0.019706577, 0.0020031198, 0.030192053, 0.0043494836, 0.024036549, 0.013419201, -0.011595545, -0.01581009, -0.011495624, 0.03382001, 0.09447588, -0.0057725194, -0.0136032365, 0.006117389, -0.013846604, 0.011768127]\n"
     ]
    }
   ],
   "source": [
    "print(word_embedding[:20])"
   ]
  },
  {
   "cell_type": "code",
   "execution_count": 10,
   "metadata": {},
   "outputs": [],
   "source": [
    "def calculate_cosine_similarity_numpy(vec1, vec2):\n",
    "  dot_product = np.dot(vec1, vec2)\n",
    "  norm_vec1 = np.linalg.norm(vec1)\n",
    "  norm_vec2 = np.linalg.norm(vec2)\n",
    "\n",
    "  if norm_vec1 == 0 or norm_vec2 == 0:\n",
    "    return 0  # Handle cases where one or both vectors are zero vectors\n",
    "\n",
    "  return dot_product / (norm_vec1 * norm_vec2)"
   ]
  },
  {
   "cell_type": "code",
   "execution_count": 11,
   "metadata": {},
   "outputs": [],
   "source": [
    "# word2 = \"medical insurance\"\n",
    "word3 = \"hospital care\"\n",
    "\n",
    "response2 = client.models.embed_content(\n",
    "    model='gemini-embedding-001',\n",
    "    contents=word3,\n",
    ")\n",
    "\n",
    "word_embedding2 = response2.embeddings[0].values"
   ]
  },
  {
   "cell_type": "code",
   "execution_count": 12,
   "metadata": {},
   "outputs": [
    {
     "data": {
      "text/plain": [
       "np.float64(0.6905654135529404)"
      ]
     },
     "execution_count": 12,
     "metadata": {},
     "output_type": "execute_result"
    }
   ],
   "source": [
    "#  \"medical insurance\",  \"health care\" => 64.27%\n",
    "#  \"customer care\",  \"health care\" => 57.45%\n",
    "#  \"hospital care\",  \"health care\" => 69.05%\n",
    "calculate_cosine_similarity_numpy(word_embedding, word_embedding2)"
   ]
  }
 ],
 "metadata": {
  "kernelspec": {
   "display_name": "saurav-env",
   "language": "python",
   "name": "python3"
  },
  "language_info": {
   "codemirror_mode": {
    "name": "ipython",
    "version": 3
   },
   "file_extension": ".py",
   "mimetype": "text/x-python",
   "name": "python",
   "nbconvert_exporter": "python",
   "pygments_lexer": "ipython3",
   "version": "3.13.1"
  }
 },
 "nbformat": 4,
 "nbformat_minor": 2
}
