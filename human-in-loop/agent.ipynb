{
 "cells": [
  {
   "cell_type": "code",
   "execution_count": 1,
   "metadata": {},
   "outputs": [],
   "source": [
    "# Set up the state\n",
    "from langgraph.graph import MessagesState, START, END\n",
    "from langgraph.types import Command, interrupt\n",
    "from langchain_core.messages import AIMessage, HumanMessage, ToolCall\n",
    "\n",
    "from langchain_core.tools import tool\n",
    "from langgraph.prebuilt import ToolNode\n",
    "from pydantic import BaseModel\n",
    "from langchain_tavily import TavilySearch\n",
    "from langchain_openai import ChatOpenAI\n",
    "from dotenv import load_dotenv\n",
    "\n",
    "from langgraph.checkpoint.memory import InMemorySaver\n",
    "from IPython.display import Image, display"
   ]
  },
  {
   "cell_type": "code",
   "execution_count": 2,
   "metadata": {},
   "outputs": [],
   "source": [
    "@tool\n",
    "def search(location: str):\n",
    "    \"\"\"Call to get the weather at a location.\"\"\"\n",
    "    query = f\"weather in {location}\"\n",
    "    print('Performing Web Search for: ', query)\n",
    "    web_search_tool = TavilySearch(max_results=1, include_answer=True)\n",
    "    search_response = web_search_tool.invoke({\"query\": query})\n",
    "    \n",
    "    return search_response\n",
    "\n",
    "@tool\n",
    "def ask_human(question):\n",
    "    \"\"\"Ask the human a question\"\"\"\n",
    "    print('Asking human...')\n",
    "    human_response = interrupt(question)\n",
    "    return human_response"
   ]
  },
  {
   "cell_type": "code",
   "execution_count": 3,
   "metadata": {},
   "outputs": [],
   "source": [
    "def build_model():\n",
    "    model = ChatOpenAI(model=\"gpt-4\")\n",
    "    return model.bind_tools([search, ask_human])\n",
    "\n",
    "\n",
    "def run_agent(state):\n",
    "    print('Running agent...')\n",
    "    model = build_model()\n",
    "\n",
    "    response = model.invoke(state['query'])\n",
    "    \n",
    "    if response.tool_calls:\n",
    "        tool_call = response.tool_calls[0]\n",
    "        if tool_call[\"name\"] == 'ask_human':\n",
    "            human_response = ask_human.invoke(tool_call[\"args\"])\n",
    "            search_response = search.invoke({\"location\": human_response})\n",
    "            state['web_search_response'] = search_response\n",
    "    else:\n",
    "        state['agent_response'] = response.content\n",
    "    \n",
    "    return state"
   ]
  },
  {
   "cell_type": "code",
   "execution_count": 4,
   "metadata": {},
   "outputs": [
    {
     "data": {
      "text/plain": [
       "<langgraph.graph.state.StateGraph at 0x1192c9010>"
      ]
     },
     "execution_count": 4,
     "metadata": {},
     "output_type": "execute_result"
    }
   ],
   "source": [
    "# Build the graph\n",
    "from langgraph.graph import END, StateGraph\n",
    "from typing_extensions import TypedDict\n",
    "\n",
    "class HumanInLoopState(TypedDict):\n",
    "    \"\"\" State for the human in loop workflow. \"\"\"\n",
    "    query: str\n",
    "    agent_response: AIMessage\n",
    "    web_search_response: str | dict\n",
    "\n",
    "# Define a new graph\n",
    "workflow = StateGraph(HumanInLoopState)\n",
    "\n",
    "# Define the three nodes we will cycle between\n",
    "workflow.add_node(\"run_agent\", run_agent)\n",
    "workflow.add_edge(START, \"run_agent\")\n",
    "workflow.add_edge(\"run_agent\", END)"
   ]
  },
  {
   "cell_type": "code",
   "execution_count": 8,
   "metadata": {},
   "outputs": [
    {
     "data": {
      "image/png": "[encoded data removed]",
      "text/plain": [
       "<IPython.core.display.Image object>"
      ]
     },
     "metadata": {},
     "output_type": "display_data"
    }
   ],
   "source": [
    "# Set up memory\n",
    "memory = InMemorySaver()\n",
    "\n",
    "# Finally, we compile it!\n",
    "# This compiles it into a LangChain Runnable,\n",
    "# meaning you can use it as you would any other runnable\n",
    "app = workflow.compile(checkpointer=memory)\n",
    "\n",
    "display(Image(app.get_graph().draw_mermaid_png()))"
   ]
  },
  {
   "cell_type": "code",
   "execution_count": 9,
   "metadata": {},
   "outputs": [
    {
     "name": "stdout",
     "output_type": "stream",
     "text": [
      "Running agent...\n",
      "Asking human...\n",
      "{'query': 'Ask the user where they are, then look up the weather there', '__interrupt__': [Interrupt(value='Where are you currently located?', resumable=True, ns=['run_agent:c6c91fb5-bb34-10cb-88a8-58385a5ed9c1'])]}\n"
     ]
    }
   ],
   "source": [
    "load_dotenv()\n",
    "config = {\"configurable\": {\"thread_id\": \"2\"}}\n",
    "response = app.invoke({\n",
    "        \"query\": \"Ask the user where they are, then look up the weather there\"\n",
    "    },\n",
    "    config=config)\n",
    "\n",
    "print(response)"
   ]
  },
  {
   "cell_type": "code",
   "execution_count": 10,
   "metadata": {},
   "outputs": [
    {
     "name": "stdout",
     "output_type": "stream",
     "text": [
      "Running agent...\n",
      "Asking human...\n",
      "Performing Web Search for:  weather in San Francisco, California\n",
      "\n",
      "\n",
      "======== Agent Response ======== \n",
      "\n",
      "On August 25, 2025, San Francisco, California, will be partly cloudy with a temperature of 16°C (61°F). The wind will blow from the west at 6.9 mph (11.2 kph). Humidity is high at 87%.\n"
     ]
    }
   ],
   "source": [
    "response = app.invoke(Command(resume=\"San Francisco, California\"), config=config)\n",
    "\n",
    "print(\"\\n\\n======== Agent Response ======== \\n\")\n",
    "print(response['web_search_response']['answer'])"
   ]
  }
 ],
 "metadata": {
  "kernelspec": {
   "display_name": "saurav-env",
   "language": "python",
   "name": "python3"
  },
  "language_info": {
   "codemirror_mode": {
    "name": "ipython",
    "version": 3
   },
   "file_extension": ".py",
   "mimetype": "text/x-python",
   "name": "python",
   "nbconvert_exporter": "python",
   "pygments_lexer": "ipython3",
   "version": "3.13.1"
  }
 },
 "nbformat": 4,
 "nbformat_minor": 2
}
