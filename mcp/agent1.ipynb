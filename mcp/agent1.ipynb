{
 "cells": [
  {
   "cell_type": "code",
   "execution_count": 1,
   "metadata": {},
   "outputs": [],
   "source": [
    "# Create server parameters for stdio connection\n",
    "from langchain_core.messages import AIMessage, HumanMessage, ToolCall\n",
    "from langchain_mcp_adapters.tools import load_mcp_tools\n",
    "from langgraph.prebuilt import create_react_agent\n",
    "from dotenv import load_dotenv\n",
    "from langchain_mcp_adapters.client import MultiServerMCPClient\n",
    "from langgraph.prebuilt import create_react_agent"
   ]
  },
  {
   "cell_type": "code",
   "execution_count": 2,
   "metadata": {},
   "outputs": [
    {
     "data": {
      "text/plain": [
       "True"
      ]
     },
     "execution_count": 2,
     "metadata": {},
     "output_type": "execute_result"
    }
   ],
   "source": [
    "load_dotenv()"
   ]
  },
  {
   "cell_type": "code",
   "execution_count": 3,
   "metadata": {},
   "outputs": [],
   "source": [
    "# Layer 2: Middleware between MCP Servers and Agent\n",
    "client = MultiServerMCPClient(\n",
    "    {\n",
    "        \"math\": {\n",
    "            \"command\": \"python\",\n",
    "            # Make sure to update to the full absolute path to your math_server.py file\n",
    "            \"args\": [\"./math_server.py\"],\n",
    "            \"transport\": \"stdio\",\n",
    "        },\n",
    "        # Add more MCP Servers here...\n",
    "    }\n",
    ")"
   ]
  },
  {
   "cell_type": "code",
   "execution_count": 4,
   "metadata": {},
   "outputs": [],
   "source": [
    "tools = await client.get_tools()\n",
    "agent = create_react_agent(\"openai:gpt-4.1\", tools)\n",
    "math_response = await agent.ainvoke({\"messages\": \"what's (3 + 5) x 12?\"})"
   ]
  },
  {
   "cell_type": "code",
   "execution_count": 5,
   "metadata": {},
   "outputs": [],
   "source": [
    "def parse_agent_response(response):\n",
    "    for message in response['messages']:\n",
    "        if isinstance(message, HumanMessage):\n",
    "            print(f'Human: {message.content}')\n",
    "        if isinstance(message, AIMessage):\n",
    "            if message.tool_calls:\n",
    "                print(f'Tool Call: {message.tool_calls}')\n",
    "            else:\n",
    "                print(f'Agent: {message.content}')"
   ]
  },
  {
   "cell_type": "code",
   "execution_count": 6,
   "metadata": {},
   "outputs": [
    {
     "name": "stdout",
     "output_type": "stream",
     "text": [
      "Human: what's (3 + 5) x 12?\n",
      "Tool Call: [{'name': 'add', 'args': {'a': 3, 'b': 5}, 'id': 'call_bHnJCosEr6tdxHve1QxSkBff', 'type': 'tool_call'}]\n",
      "Tool Call: [{'name': 'multiply', 'args': {'a': 8, 'b': 12}, 'id': 'call_h3DSXYBb08Ys5bQTz1tXTDee', 'type': 'tool_call'}]\n",
      "Agent: (3 + 5) × 12 = 8 × 12 = 96.\n"
     ]
    }
   ],
   "source": [
    "parse_agent_response(math_response)"
   ]
  },
  {
   "cell_type": "code",
   "execution_count": 7,
   "metadata": {},
   "outputs": [],
   "source": [
    "client = MultiServerMCPClient(\n",
    "    {\n",
    "        \"math\": {\n",
    "            \"command\": \"python\",\n",
    "            # Make sure to update to the full absolute path to your math_server.py file\n",
    "            \"args\": [\"./math_server.py\"],\n",
    "            \"transport\": \"stdio\",\n",
    "        },\n",
    "        \"weather\": {\n",
    "            \"command\": \"python\",\n",
    "            # Make sure to update to the full absolute path to your math_server.py file\n",
    "            \"args\": [\"./weather_server.py\"],\n",
    "            \"transport\": \"stdio\",\n",
    "        },\n",
    "        # Add more MCP Servers here...\n",
    "    }\n",
    ")"
   ]
  },
  {
   "cell_type": "code",
   "execution_count": 10,
   "metadata": {},
   "outputs": [],
   "source": [
    "tools = await client.get_tools()\n",
    "agent = create_react_agent(\"openai:gpt-4.1\", tools)\n",
    "agent_response = await agent.ainvoke({\"messages\": \"How's the weather in San Francisco\"})"
   ]
  },
  {
   "cell_type": "code",
   "execution_count": 11,
   "metadata": {},
   "outputs": [
    {
     "name": "stdout",
     "output_type": "stream",
     "text": [
      "Human: How's the weather in San Francisco\n",
      "Tool Call: [{'name': 'get_weather_status', 'args': {'location': 'San Francisco'}, 'id': 'call_aeKxBFxNb7UNAQjd6BNFT1ZS', 'type': 'tool_call'}]\n",
      "Agent: It's very sunny in San Francisco right now. If you need a detailed forecast or tips for enjoying the sunshine, let me know!\n"
     ]
    }
   ],
   "source": [
    "parse_agent_response(agent_response)"
   ]
  },
  {
   "cell_type": "code",
   "execution_count": null,
   "metadata": {},
   "outputs": [],
   "source": []
  }
 ],
 "metadata": {
  "kernelspec": {
   "display_name": "saurav-env",
   "language": "python",
   "name": "python3"
  },
  "language_info": {
   "codemirror_mode": {
    "name": "ipython",
    "version": 3
   },
   "file_extension": ".py",
   "mimetype": "text/x-python",
   "name": "python",
   "nbconvert_exporter": "python",
   "pygments_lexer": "ipython3",
   "version": "3.13.1"
  }
 },
 "nbformat": 4,
 "nbformat_minor": 2
}
