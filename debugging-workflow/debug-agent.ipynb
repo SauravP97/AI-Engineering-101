{
 "cells": [
  {
   "cell_type": "code",
   "execution_count": 10,
   "metadata": {},
   "outputs": [],
   "source": [
    "from langgraph.graph import StateGraph, START, END\n",
    "from langgraph.checkpoint.memory import InMemorySaver\n",
    "from typing import Annotated\n",
    "from typing_extensions import TypedDict\n",
    "from operator import add\n",
    "from langchain_openai import ChatOpenAI\n",
    "\n",
    "from dotenv import load_dotenv"
   ]
  },
  {
   "cell_type": "code",
   "execution_count": 11,
   "metadata": {},
   "outputs": [
    {
     "data": {
      "text/plain": [
       "True"
      ]
     },
     "execution_count": 11,
     "metadata": {},
     "output_type": "execute_result"
    }
   ],
   "source": [
    "load_dotenv()"
   ]
  },
  {
   "cell_type": "code",
   "execution_count": 18,
   "metadata": {},
   "outputs": [],
   "source": [
    "class SharedState(TypedDict):\n",
    "    dsa_topics: list[str]\n",
    "    system_design_topics: list[str]\n",
    "\n",
    "def parse_model_response(response):\n",
    "    \"\"\" Parse the model response\"\"\"\n",
    "    return [topic.strip() for topic in response.split(\",\") if topic.strip()]"
   ]
  },
  {
   "cell_type": "code",
   "execution_count": 52,
   "metadata": {},
   "outputs": [],
   "source": [
    "def find_relevant_dsa_topics(shared_state: SharedState) -> SharedState:\n",
    "    \"\"\" Find relevant DSA topics for year 2025.\"\"\"\n",
    "    query = \"\"\"\n",
    "    Can you provide top 5 DSA topics to master for Software Engineering interviews in 2025?.\n",
    "    Please only return the DSA topics comma separated, no other detail is needed. \n",
    "    \"\"\"\n",
    "    model = ChatOpenAI(model=\"gpt-4o\")\n",
    "    \n",
    "    response = model.invoke(query)\n",
    "    # shared_state[\"dsa_topics\"] = parse_model_response(response.content)\n",
    "\n",
    "    return {\n",
    "        \"dsa_topics\": parse_model_response(response.content),\n",
    "        \"system_design_topics\": []\n",
    "    }"
   ]
  },
  {
   "cell_type": "code",
   "execution_count": 53,
   "metadata": {},
   "outputs": [],
   "source": [
    "def find_relevant_system_design_topics(shared_state: SharedState) -> SharedState:\n",
    "    \"\"\" Find relevant System Design topics for year 2025.\"\"\"\n",
    "    query = \"\"\"\n",
    "    Can you provide top 5 System Design topics to master for Software Engineering interviews in 2025?.\n",
    "    Please only return the System Design topics comma separated, no other detail is needed. \n",
    "    \"\"\"\n",
    "    model = ChatOpenAI(model=\"gpt-4o\")\n",
    "    \n",
    "    response = model.invoke(query)\n",
    "    # shared_state[\"system_design_topics\"] = parse_model_response(response.content)\n",
    "    return {\n",
    "        \"dsa_topics\": [],\n",
    "        \"system_design_topics\": parse_model_response(response.content),\n",
    "    }"
   ]
  },
  {
   "cell_type": "code",
   "execution_count": 54,
   "metadata": {},
   "outputs": [],
   "source": [
    "def build_graph():\n",
    "    # Building a Graph\n",
    "  # State of the Graph that will be shared among nodes.\n",
    "  workflow = StateGraph(SharedState)\n",
    "\n",
    "  # Add nodes.\n",
    "  workflow.add_node(\"find_relevant_dsa_topics\", find_relevant_dsa_topics)\n",
    "  workflow.add_node(\"find_relevant_system_design_topics\", find_relevant_system_design_topics)\n",
    "\n",
    "  # Define the edges of the graph.\n",
    "  workflow.add_edge(START, \"find_relevant_dsa_topics\")\n",
    "  workflow.add_edge(\"find_relevant_dsa_topics\", \"find_relevant_system_design_topics\")\n",
    "  workflow.add_edge(\"find_relevant_system_design_topics\", END)\n",
    "\n",
    "  checkpointer = InMemorySaver()\n",
    "  graph = workflow.compile(checkpointer=checkpointer)\n",
    "\n",
    "  config = {\"configurable\": {\"thread_id\": \"1\"}}\n",
    "  response = graph.invoke({}, config)\n",
    "\n",
    "  # print(graph.get_graph().draw_mermaid())\n",
    "\n",
    "  return response, graph, config"
   ]
  },
  {
   "cell_type": "code",
   "execution_count": 55,
   "metadata": {},
   "outputs": [
    {
     "name": "stdout",
     "output_type": "stream",
     "text": [
      "{'dsa_topics': [], 'system_design_topics': ['Scalability', 'Microservices Architecture', 'Database Design and Optimization', 'Distributed Systems', 'Load Balancing and Caching.']}\n"
     ]
    }
   ],
   "source": [
    "response, graph, config = build_graph()\n",
    "print(response)"
   ]
  },
  {
   "cell_type": "code",
   "execution_count": 56,
   "metadata": {},
   "outputs": [],
   "source": [
    "snapshots = list(graph.get_state_history(config))"
   ]
  },
  {
   "cell_type": "code",
   "execution_count": 57,
   "metadata": {},
   "outputs": [
    {
     "name": "stdout",
     "output_type": "stream",
     "text": [
      "StateSnapshot(values={'dsa_topics': [], 'system_design_topics': ['Scalability', 'Microservices Architecture', 'Database Design and Optimization', 'Distributed Systems', 'Load Balancing and Caching.']}, next=(), config={'configurable': {'thread_id': '1', 'checkpoint_ns': '', 'checkpoint_id': '1f061914-da00-60b4-8002-f6ed1262bd48'}}, metadata={'source': 'loop', 'step': 2, 'parents': {}, 'thread_id': '1'}, created_at='2025-07-15T15:35:14.896873+00:00', parent_config={'configurable': {'thread_id': '1', 'checkpoint_ns': '', 'checkpoint_id': '1f061914-ce47-66b4-8001-fb3e9dcb3a42'}}, tasks=(), interrupts=())\n"
     ]
    }
   ],
   "source": [
    "print(snapshots[0])"
   ]
  },
  {
   "cell_type": "code",
   "execution_count": 58,
   "metadata": {},
   "outputs": [
    {
     "name": "stdout",
     "output_type": "stream",
     "text": [
      "================== Snapshot details: ==================\n",
      "{}\n",
      "('__start__',)\n",
      "\n",
      "\n",
      "\n",
      "================== Snapshot details: ==================\n",
      "{}\n",
      "('find_relevant_dsa_topics',)\n",
      "\n",
      "\n",
      "\n",
      "================== Snapshot details: ==================\n",
      "{'dsa_topics': ['Arrays', 'Linked Lists', 'Trees', 'Graphs', 'Dynamic Programming'], 'system_design_topics': []}\n",
      "('find_relevant_system_design_topics',)\n",
      "\n",
      "\n",
      "\n",
      "================== Snapshot details: ==================\n",
      "{'dsa_topics': [], 'system_design_topics': ['Scalability', 'Microservices Architecture', 'Database Design and Optimization', 'Distributed Systems', 'Load Balancing and Caching.']}\n",
      "()\n",
      "\n",
      "\n",
      "\n"
     ]
    }
   ],
   "source": [
    "list.reverse(snapshots)\n",
    "\n",
    "for snapshot in snapshots:\n",
    "    print(\"================== Snapshot details: ==================\")\n",
    "    print(snapshot.values)\n",
    "    print(snapshot.next)\n",
    "    print(\"\\n\\n\")"
   ]
  }
 ],
 "metadata": {
  "kernelspec": {
   "display_name": "saurav-env",
   "language": "python",
   "name": "python3"
  },
  "language_info": {
   "codemirror_mode": {
    "name": "ipython",
    "version": 3
   },
   "file_extension": ".py",
   "mimetype": "text/x-python",
   "name": "python",
   "nbconvert_exporter": "python",
   "pygments_lexer": "ipython3",
   "version": "3.13.1"
  }
 },
 "nbformat": 4,
 "nbformat_minor": 2
}
