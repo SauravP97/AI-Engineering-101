{
 "cells": [
  {
   "cell_type": "code",
   "execution_count": 1,
   "metadata": {},
   "outputs": [],
   "source": [
    "from langgraph.graph import StateGraph, START, END\n",
    "from langgraph.checkpoint.memory import InMemorySaver\n",
    "from typing import Annotated\n",
    "from typing_extensions import TypedDict\n",
    "from operator import add\n",
    "from langchain_openai import ChatOpenAI\n",
    "\n",
    "from dotenv import load_dotenv"
   ]
  },
  {
   "cell_type": "code",
   "execution_count": 2,
   "metadata": {},
   "outputs": [
    {
     "data": {
      "text/plain": [
       "True"
      ]
     },
     "execution_count": 2,
     "metadata": {},
     "output_type": "execute_result"
    }
   ],
   "source": [
    "load_dotenv()"
   ]
  },
  {
   "cell_type": "code",
   "execution_count": 3,
   "metadata": {},
   "outputs": [],
   "source": [
    "class SharedState(TypedDict):\n",
    "    dsa_topics: list[str]\n",
    "    system_design_topics: list[str]\n",
    "\n",
    "def parse_model_response(response):\n",
    "    \"\"\" Parse the model response\"\"\"\n",
    "    return [topic.strip() for topic in response.split(\",\") if topic.strip()]"
   ]
  },
  {
   "cell_type": "code",
   "execution_count": 4,
   "metadata": {},
   "outputs": [],
   "source": [
    "def find_relevant_dsa_topics(shared_state: SharedState) -> SharedState:\n",
    "    \"\"\" Find relevant DSA topics for year 2025.\"\"\"\n",
    "    query = \"\"\"\n",
    "    Can you provide top 5 DSA topics to master for Software Engineering interviews in 2025?.\n",
    "    Please only return the DSA topics comma separated, no other detail is needed. \n",
    "    \"\"\"\n",
    "    model = ChatOpenAI(model=\"gpt-4o\")\n",
    "    \n",
    "    response = model.invoke(query)\n",
    "    # shared_state[\"dsa_topics\"] = parse_model_response(response.content)\n",
    "\n",
    "    return {\n",
    "        \"dsa_topics\": parse_model_response(response.content),\n",
    "        \"system_design_topics\": []\n",
    "    }"
   ]
  },
  {
   "cell_type": "code",
   "execution_count": 12,
   "metadata": {},
   "outputs": [],
   "source": [
    "def find_relevant_system_design_topics(shared_state: SharedState) -> SharedState:\n",
    "    \"\"\" Find relevant System Design topics for year 2025.\"\"\"\n",
    "    query = \"\"\"\n",
    "    Can you provide top 5 System Design topics to master for Software Engineering interviews in 2025?.\n",
    "    Please only return the System Design topics comma separated, no other detail is needed. \n",
    "    \"\"\"\n",
    "    model = ChatOpenAI(model=\"gpt-4o\")\n",
    "    \n",
    "    response = model.invoke(query)\n",
    "    shared_state[\"system_design_topics\"] = parse_model_response(response.content)\n",
    "\n",
    "    return shared_state"
   ]
  },
  {
   "cell_type": "code",
   "execution_count": 6,
   "metadata": {},
   "outputs": [],
   "source": [
    "def build_graph():\n",
    "    # Building a Graph\n",
    "  # State of the Graph that will be shared among nodes.\n",
    "  workflow = StateGraph(SharedState)\n",
    "\n",
    "  # Add nodes.\n",
    "  workflow.add_node(\"find_relevant_dsa_topics\", find_relevant_dsa_topics)\n",
    "  workflow.add_node(\"find_relevant_system_design_topics\", find_relevant_system_design_topics)\n",
    "\n",
    "  # Define the edges of the graph.\n",
    "  workflow.add_edge(START, \"find_relevant_dsa_topics\")\n",
    "  workflow.add_edge(\"find_relevant_dsa_topics\", \"find_relevant_system_design_topics\")\n",
    "  workflow.add_edge(\"find_relevant_system_design_topics\", END)\n",
    "\n",
    "  checkpointer = InMemorySaver()\n",
    "  graph = workflow.compile(checkpointer=checkpointer)\n",
    "\n",
    "  config = {\"configurable\": {\"thread_id\": \"1\"}}\n",
    "  response = graph.invoke({}, config)\n",
    "\n",
    "  # print(graph.get_graph().draw_mermaid())\n",
    "\n",
    "  return response, graph, config"
   ]
  },
  {
   "cell_type": "code",
   "execution_count": 13,
   "metadata": {},
   "outputs": [
    {
     "name": "stdout",
     "output_type": "stream",
     "text": [
      "{'dsa_topics': ['Arrays', 'Strings', 'Trees', 'Graphs', 'Dynamic Programming'], 'system_design_topics': ['Scalability and Load Balancing', 'Data Storage and Management', 'Microservices Architecture', 'High Availability and Fault Tolerance', 'Real-Time Data Processing.']}\n"
     ]
    }
   ],
   "source": [
    "response, graph, config = build_graph()\n",
    "print(response)"
   ]
  },
  {
   "cell_type": "code",
   "execution_count": 14,
   "metadata": {},
   "outputs": [],
   "source": [
    "snapshots = list(graph.get_state_history(config))"
   ]
  },
  {
   "cell_type": "code",
   "execution_count": 15,
   "metadata": {},
   "outputs": [
    {
     "name": "stdout",
     "output_type": "stream",
     "text": [
      "StateSnapshot(values={'dsa_topics': ['Arrays', 'Strings', 'Trees', 'Graphs', 'Dynamic Programming'], 'system_design_topics': []}, next=('find_relevant_system_design_topics',), config={'configurable': {'thread_id': '1', 'checkpoint_ns': '', 'checkpoint_id': '1f0621d7-4614-6ed8-8001-15c409bf22f5'}}, metadata={'source': 'loop', 'step': 1, 'parents': {}, 'thread_id': '1'}, created_at='2025-07-16T08:18:29.459290+00:00', parent_config={'configurable': {'thread_id': '1', 'checkpoint_ns': '', 'checkpoint_id': '1f0621d7-3c11-6b2a-8000-dc2ec3bde44b'}}, tasks=(PregelTask(id='200ba79c-7371-04c9-3118-9437577f3cce', name='find_relevant_system_design_topics', path=('__pregel_pull', 'find_relevant_system_design_topics'), error=None, interrupts=(), state=None, result={'dsa_topics': ['Arrays', 'Strings', 'Trees', 'Graphs', 'Dynamic Programming'], 'system_design_topics': ['Scalability and Load Balancing', 'Data Storage and Management', 'Microservices Architecture', 'High Availability and Fault Tolerance', 'Real-Time Data Processing.']}),), interrupts=())\n"
     ]
    }
   ],
   "source": [
    "print(snapshots[1])"
   ]
  },
  {
   "cell_type": "code",
   "execution_count": 16,
   "metadata": {},
   "outputs": [
    {
     "name": "stdout",
     "output_type": "stream",
     "text": [
      "================== Snapshot details: ==================\n",
      "{}\n",
      "('__start__',)\n",
      "\n",
      "\n",
      "\n",
      "================== Snapshot details: ==================\n",
      "{}\n",
      "('find_relevant_dsa_topics',)\n",
      "\n",
      "\n",
      "\n",
      "================== Snapshot details: ==================\n",
      "{'dsa_topics': ['Arrays', 'Strings', 'Trees', 'Graphs', 'Dynamic Programming'], 'system_design_topics': []}\n",
      "('find_relevant_system_design_topics',)\n",
      "\n",
      "\n",
      "\n",
      "================== Snapshot details: ==================\n",
      "{'dsa_topics': ['Arrays', 'Strings', 'Trees', 'Graphs', 'Dynamic Programming'], 'system_design_topics': ['Scalability and Load Balancing', 'Data Storage and Management', 'Microservices Architecture', 'High Availability and Fault Tolerance', 'Real-Time Data Processing.']}\n",
      "()\n",
      "\n",
      "\n",
      "\n"
     ]
    }
   ],
   "source": [
    "list.reverse(snapshots)\n",
    "\n",
    "for snapshot in snapshots:\n",
    "    print(\"================== Snapshot details: ==================\")\n",
    "    print(snapshot.values)\n",
    "    print(snapshot.next)\n",
    "    print(\"\\n\\n\")"
   ]
  }
 ],
 "metadata": {
  "kernelspec": {
   "display_name": "saurav-env",
   "language": "python",
   "name": "python3"
  },
  "language_info": {
   "codemirror_mode": {
    "name": "ipython",
    "version": 3
   },
   "file_extension": ".py",
   "mimetype": "text/x-python",
   "name": "python",
   "nbconvert_exporter": "python",
   "pygments_lexer": "ipython3",
   "version": "3.13.1"
  }
 },
 "nbformat": 4,
 "nbformat_minor": 2
}
