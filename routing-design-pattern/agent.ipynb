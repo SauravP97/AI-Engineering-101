{
 "cells": [
  {
   "cell_type": "code",
   "execution_count": 50,
   "metadata": {},
   "outputs": [
    {
     "name": "stderr",
     "output_type": "stream",
     "text": [
      "USER_AGENT environment variable not set, consider setting it to identify your requests.\n"
     ]
    }
   ],
   "source": [
    "from pydantic import BaseModel\n",
    "from typing_extensions import Literal, TypedDict\n",
    "from pydantic import Field\n",
    "from langchain_openai import ChatOpenAI\n",
    "from langgraph.graph import END, StateGraph, START\n",
    "from langchain_core.prompts import ChatPromptTemplate\n",
    "from langchain_community.document_loaders import WebBaseLoader\n",
    "\n",
    "from dotenv import load_dotenv"
   ]
  },
  {
   "cell_type": "code",
   "execution_count": 81,
   "metadata": {},
   "outputs": [],
   "source": [
    "class RouterOutput(TypedDict):\n",
    "    output: Literal['github', 'medium', 'none'] = Field(\n",
    "        default='none',\n",
    "        description=\"The output destination, either 'github' or 'medium'. If neither is suitable, use 'none'.\"\n",
    "    ),\n",
    "    user_handle: str = Field(\n",
    "        default='none',\n",
    "        description=\"The user's profile handle for the specified output destination.\"\n",
    "    )"
   ]
  },
  {
   "cell_type": "code",
   "execution_count": 52,
   "metadata": {},
   "outputs": [],
   "source": [
    "class SharedState(TypedDict):\n",
    "    query: str\n",
    "    user_handle: str\n",
    "    destination: Literal['github', 'medium']\n",
    "    profile_summary: str\n",
    "    model: ChatOpenAI"
   ]
  },
  {
   "cell_type": "code",
   "execution_count": 53,
   "metadata": {},
   "outputs": [],
   "source": [
    "def build_model(shared_state: SharedState):\n",
    "    shared_state['model'] = ChatOpenAI(model=\"gpt-4o\", temperature=0)\n",
    "    return shared_state"
   ]
  },
  {
   "cell_type": "code",
   "execution_count": 83,
   "metadata": {},
   "outputs": [],
   "source": [
    "def router_agent(shared_state: SharedState):\n",
    "    prompt = f\"\"\"\n",
    "    You are an expert social media profile assistant. Based on the user's preference, you will determine whether to pull their GitHub or Medium profile details.\n",
    "    \n",
    "    Ensure your response is a valid JSON object matching the RouterOutput schema.\n",
    "    \"\"\"\n",
    "\n",
    "    model_with_structured_output = shared_state['model'].with_structured_output(RouterOutput)\n",
    "    grade_prompt = ChatPromptTemplate.from_messages(\n",
    "        [\n",
    "            (\"system\", prompt),\n",
    "            (\"human\", \"User's Query: \\n\\n {query}\"),\n",
    "        ]\n",
    "    )\n",
    "\n",
    "    retrieval_grader = grade_prompt | model_with_structured_output\n",
    "    response = retrieval_grader.invoke({\"query\": shared_state['query']})\n",
    "    shared_state['destination'] = response[\"output\"]\n",
    "    shared_state['user_handle'] = response[\"user_handle\"]\n",
    "\n",
    "    return shared_state"
   ]
  },
  {
   "cell_type": "code",
   "execution_count": 55,
   "metadata": {},
   "outputs": [],
   "source": [
    "# Conditional edge function to route to the appropriate node\n",
    "def route_destination(shared_state: SharedState):\n",
    "    # Return the node name you want to visit next\n",
    "    if shared_state[\"destination\"] == \"github\":\n",
    "        return \"summarize_github_profile\"\n",
    "    elif shared_state[\"destination\"] == \"medium\":\n",
    "        return \"summarize_medium_profile\"\n",
    "    else:\n",
    "        return \"end_node\""
   ]
  },
  {
   "cell_type": "code",
   "execution_count": 56,
   "metadata": {},
   "outputs": [],
   "source": [
    "# Helper Functions\n",
    "def read_github_profile(user_handle: str):\n",
    "    '''Reads the GitHub profile content for the given GitHub handle.'''\n",
    "    print('Reading GitHub profile content...')\n",
    "    github_profile_url = 'https://www.github.com/' + user_handle\n",
    "    documents = WebBaseLoader(github_profile_url).load()\n",
    "    page_content = ''\n",
    "\n",
    "    for document in documents:\n",
    "        page_content += document.page_content\n",
    "    \n",
    "    return page_content.strip()\n",
    "\n",
    "def read_medium_profile(user_handle: str):\n",
    "    '''Reads the Medium profile content for the given Medium user handle.'''\n",
    "    print('Reading Medium profile content...')\n",
    "    medium_profile_url = f'https://{user_handle}.medium.com'\n",
    "    documents = WebBaseLoader(medium_profile_url).load()\n",
    "    page_content = ''\n",
    "\n",
    "    for document in documents:\n",
    "        page_content += document.page_content\n",
    "    \n",
    "    return page_content.strip()"
   ]
  },
  {
   "cell_type": "code",
   "execution_count": 57,
   "metadata": {},
   "outputs": [],
   "source": [
    "def summarize_github_profile(shared_state: SharedState) -> SharedState:\n",
    "    '''Summarizes the GitHub profile content.'''\n",
    "    print('Summarizing GitHub profile content...') \n",
    "    model = shared_state['model']\n",
    "    github_profile_content = read_github_profile(shared_state['user_handle'])   \n",
    "\n",
    "    prompt = f'''Summarize the following GitHub profile content in a concise manner\n",
    "    and highlight name, organization, followers, location, contact information key skills, \n",
    "    projects, and contributions.\n",
    "\n",
    "    Github Profile Content: {github_profile_content}\n",
    "    '''\n",
    "    response = model.invoke(prompt)\n",
    "    shared_state['profile_summary'] = response.content.strip()\n",
    "\n",
    "    return shared_state\n"
   ]
  },
  {
   "cell_type": "code",
   "execution_count": 58,
   "metadata": {},
   "outputs": [],
   "source": [
    "def summarize_medium_profile(shared_state: SharedState) -> SharedState:\n",
    "    '''Summarizes the Medium profile content.'''\n",
    "    print('Summarizing Medium profile content...')\n",
    "    model = shared_state['model']\n",
    "    medium_profile_content = read_medium_profile(shared_state['user_handle'])\n",
    "\n",
    "    prompt = f'''Summarize the following Medium profile content in a concise manner\n",
    "    and highlight name, followers, posted articles, and description.\n",
    "\n",
    "    Medium Profile Content: {medium_profile_content}\n",
    "    '''\n",
    "    response = model.invoke(prompt)\n",
    "    shared_state['profile_summary'] = response.content.strip()\n",
    "\n",
    "    return shared_state\n"
   ]
  },
  {
   "cell_type": "code",
   "execution_count": 59,
   "metadata": {},
   "outputs": [],
   "source": [
    "def build_graph():\n",
    "    workflow = StateGraph(SharedState)\n",
    "\n",
    "    # Add Nodes\n",
    "    workflow.add_node(build_model, \"build_model\")\n",
    "    workflow.add_node(router_agent, \"router_agent\")\n",
    "    workflow.add_node(summarize_github_profile, \"summarize_github_profile\")\n",
    "    workflow.add_node(summarize_medium_profile, \"summarize_medium_profile\")\n",
    "\n",
    "    workflow.add_edge(START, \"build_model\")\n",
    "    workflow.add_edge(\"build_model\", \"router_agent\")\n",
    "    workflow.add_conditional_edges(\n",
    "        \"router_agent\", \n",
    "        route_destination, \n",
    "        { \n",
    "            \"summarize_github_profile\": \"summarize_github_profile\",\n",
    "            \"summarize_medium_profile\": \"summarize_medium_profile\",\n",
    "            \"end_node\": END\n",
    "        }\n",
    "    )\n",
    "    workflow.add_edge(\"summarize_github_profile\", END)\n",
    "    workflow.add_edge(\"summarize_medium_profile\", END)\n",
    "\n",
    "    return workflow.compile()"
   ]
  },
  {
   "cell_type": "code",
   "execution_count": null,
   "metadata": {},
   "outputs": [],
   "source": [
    "load_dotenv()\n",
    "compiled_graph = build_graph()\n",
    "workflow_response: SharedState = compiled_graph.invoke(\n",
    "    {\n",
    "        \"query\": \"Read the medium profile for user handle srvptk97\"\n",
    "    }\n",
    ")\n",
    "\n",
    "print(f\"\\n Profile Type: {workflow_response['destination']}\")\n",
    "if workflow_response['destination'] != 'none':\n",
    "    print(f\"\\n\\n Profile Summary: {workflow_response['profile_summary']}\")\n",
    "else:\n",
    "    print(\"\\n\\n No suitable profile found.\")"
   ]
  }
 ],
 "metadata": {
  "kernelspec": {
   "display_name": "saurav-env",
   "language": "python",
   "name": "python3"
  },
  "language_info": {
   "codemirror_mode": {
    "name": "ipython",
    "version": 3
   },
   "file_extension": ".py",
   "mimetype": "text/x-python",
   "name": "python",
   "nbconvert_exporter": "python",
   "pygments_lexer": "ipython3",
   "version": "3.13.1"
  }
 },
 "nbformat": 4,
 "nbformat_minor": 2
}
