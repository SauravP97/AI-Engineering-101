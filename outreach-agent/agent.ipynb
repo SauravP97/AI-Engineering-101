{
 "cells": [
  {
   "cell_type": "code",
   "execution_count": 1,
   "metadata": {},
   "outputs": [],
   "source": [
    "from langchain_openai import ChatOpenAI\n",
    "from dotenv import load_dotenv"
   ]
  },
  {
   "cell_type": "code",
   "execution_count": 2,
   "metadata": {},
   "outputs": [
    {
     "data": {
      "text/plain": [
       "True"
      ]
     },
     "execution_count": 2,
     "metadata": {},
     "output_type": "execute_result"
    }
   ],
   "source": [
    "load_dotenv()"
   ]
  },
  {
   "cell_type": "code",
   "execution_count": 3,
   "metadata": {},
   "outputs": [],
   "source": [
    "def get_profile_content(profile) -> str:\n",
    "    \"\"\" Get Profile data from Linkedin profile url or from a Profile file.\"\"\"\n",
    "    profile = open('./profiles/' + profile, 'r')\n",
    "    profile_content = profile.read()\n",
    "    return profile_content\n",
    "\n",
    "\n",
    "def extract_receiver_profile_information(profile_content) -> str:\n",
    "    \"\"\"Extract useful information from the profile content.\"\"\"\n",
    "\n",
    "    query = \"Get Profile details like name, organization and current role from the profile content.\"\n",
    "    model = ChatOpenAI(model=\"gpt-4o\")\n",
    "    response = model.invoke([\n",
    "            {\"role\": \"system\", \"content\": \"You are a helpful assistant that extracts profile details from the provided content.\"},\n",
    "            {\"role\": \"user\", \"content\": f\"Profile URL: {profile_content} \\n\\n Question: {query}\"}\n",
    "        ])\n",
    "    \n",
    "    return response.content\n",
    "\n",
    "def extract_candidate_profile_information(profile_content) -> str:\n",
    "    \"\"\"Extract useful information from the candidate profile content.\"\"\"\n",
    "\n",
    "    query = \"Get Profile details like name, organization, current role, experience and skill from the profile content.\"\n",
    "    model = ChatOpenAI(model=\"gpt-4o\")\n",
    "    response = model.invoke([\n",
    "            {\"role\": \"system\", \"content\": \"You are a helpful assistant that extracts profile details from the provided content.\"},\n",
    "            {\"role\": \"user\", \"content\": f\"Profile URL: {profile_content} \\n\\n Question: {query}\"}\n",
    "        ])\n",
    "    \n",
    "    return response.content"
   ]
  },
  {
   "cell_type": "code",
   "execution_count": 4,
   "metadata": {},
   "outputs": [
    {
     "name": "stdout",
     "output_type": "stream",
     "text": [
      "- Name: Zach Johnson\n",
      "- Organization: Mindera\n",
      "- Current Role: Co-Founder and Head of AI Product\n",
      "- Location: Zurich, Switzerland\n",
      "- Name: John Doe\n",
      "- Organization: UBS\n",
      "- Current Role: Senior Software Engineer\n",
      "- Experience:\n",
      "  1. **Senior Software Engineer at UBS, Zurich, Switzerland (2018 - 2025)**\n",
      "     - Designed and implemented multiple microservices using Java, Spring Boot, and AWS.\n",
      "     - Collaborated with cross-functional teams to deliver high-quality software solutions.\n",
      "     - Mentored junior engineers and contributed to the development of the company's technical strategy.\n",
      "\n",
      "  2. **Software Engineer at Easter Genetics, Uster, Switzerland (2015 - 2018)**\n",
      "     - Worked on a team to develop a genetic algorithm to predict the growth of a new species.\n",
      "     - Utilized C++ and OpenCV to analyze images and data.\n",
      "     - Contributed to the development of the company's software architecture and led the implementation of a new feature.\n",
      "\n",
      "  3. **Research Assistant at ETH Zurich, Zurich, Switzerland (2012 - 2015)**\n",
      "     - Assisted a research group in developing algorithms for real-time video processing.\n",
      "     - Utilized MATLAB and C++ to implement and test new methods.\n",
      "\n",
      "- Skills:\n",
      "  - Object-oriented programming\n",
      "  - Data structures\n",
      "  - Software design patterns\n",
      "  - Java, Python, C++\n",
      "  - Agile development methodologies\n",
      "  - Version control systems (Git)\n",
      "  - Microservices design and implementation\n",
      "  - Spring Boot\n",
      "  - AWS\n",
      "  - C++, OpenCV\n",
      "  - MATLAB\n",
      "  - Excellent communication skills.\n"
     ]
    }
   ],
   "source": [
    "CANDIDATE_PROFILE = 'profile2.txt'\n",
    "RECEIVER_PROFILE = 'profile1.txt'\n",
    "\n",
    "receiver_profile_content = get_profile_content(RECEIVER_PROFILE)\n",
    "receiver_profile_information = extract_receiver_profile_information(receiver_profile_content)\n",
    "\n",
    "candidate_profile_content = get_profile_content(CANDIDATE_PROFILE)\n",
    "candidate_profile_information = extract_candidate_profile_information(candidate_profile_content)\n",
    "\n",
    "print(receiver_profile_information)\n",
    "print(candidate_profile_information)"
   ]
  },
  {
   "cell_type": "code",
   "execution_count": 5,
   "metadata": {},
   "outputs": [],
   "source": [
    "def write_a_referral_pitch(receiver_information, candidate_information):\n",
    "    \"\"\" Write a referral pitch based on the receiver's and candidate profile information.\"\"\"\n",
    "    query = '''\n",
    "    You are a candidate applying to a role.\n",
    "    Write a referral pitch for applying to an open position in the receiver's organization \n",
    "    based on the receiver's profile information and the candidate profile information. \n",
    "    The receiver profile information and candidate profile information is provided to you and \n",
    "    the receiver information has the receiver name, organization, and current role.\n",
    "    The candidate profile information has the candidate name, organization, current role, experience, and skills.\n",
    "    \n",
    "    The pitch should be concise, professional, and highlight the candidate's skills and\n",
    "    experiences that make them a good fit for the position.\n",
    "\n",
    "    Keep the pitch message concise and to the point, under 100 words.\n",
    "    '''\n",
    "\n",
    "    model = ChatOpenAI(model=\"gpt-4o\")\n",
    "    response = model.invoke([\n",
    "            {\n",
    "                \"role\": \"system\", \n",
    "                \"content\": \"You are the Candidate trying to write a referral pitch for applying to an open position in the receiver's organization.\"\n",
    "            },\n",
    "            {\n",
    "                \"role\": \"user\", \n",
    "                \"content\": f\"Receiver Information: {receiver_information} \\n\\n Candidate Information: {candidate_information} \\n\\n Question: {query}\"\n",
    "            }\n",
    "        ])\n",
    "    \n",
    "    return response.content"
   ]
  },
  {
   "cell_type": "code",
   "execution_count": 6,
   "metadata": {},
   "outputs": [],
   "source": [
    "referral_pitch = write_a_referral_pitch(receiver_profile_information, candidate_profile_information)"
   ]
  },
  {
   "cell_type": "code",
   "execution_count": 7,
   "metadata": {},
   "outputs": [
    {
     "name": "stdout",
     "output_type": "stream",
     "text": [
      "Subject: Referral Opportunity at Mindera\n",
      "\n",
      "Hi Zach,\n",
      "\n",
      "I hope this message finds you well. I am reaching out to express my interest in joining Mindera. With over a decade of experience in software engineering, including designing scalable microservices at UBS and developing advanced algorithms, I believe my skills in Java, C++, and AI align well with your team’s objectives. My experience in leading projects and mentoring has prepared me to make a meaningful contribution under your leadership. I would be thrilled to explore potential opportunities at Mindera.\n",
      "\n",
      "Thank you for your consideration.\n",
      "\n",
      "Best regards,  \n",
      "John Doe\n"
     ]
    }
   ],
   "source": [
    "print(referral_pitch)"
   ]
  },
  {
   "cell_type": "code",
   "execution_count": null,
   "metadata": {},
   "outputs": [],
   "source": []
  }
 ],
 "metadata": {
  "kernelspec": {
   "display_name": "saurav-env",
   "language": "python",
   "name": "python3"
  },
  "language_info": {
   "codemirror_mode": {
    "name": "ipython",
    "version": 3
   },
   "file_extension": ".py",
   "mimetype": "text/x-python",
   "name": "python",
   "nbconvert_exporter": "python",
   "pygments_lexer": "ipython3",
   "version": "3.13.1"
  }
 },
 "nbformat": 4,
 "nbformat_minor": 2
}
